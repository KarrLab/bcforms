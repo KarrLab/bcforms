{
 "cells": [
  {
   "cell_type": "markdown",
   "metadata": {},
   "source": [
    "`BcForms` is a toolkit for concretely describing the primary structure of macromolecular complexes, including non-canonical monomeric forms and intra and interstrand crosslinks. `BcForms` includes a textual notation for describing complexes and a Python library, a command line program, and a REST API for validating and manipulating complexes described in this notation.\n",
    "`BcForms` represents complexes as sets of subunits, with their stoichiometries, and covalent crosslinks which link the subunits.\n",
    "DNA, RNA, and protein subunits can be represented using `BpForms`. Small molecule subunits can be represented using `openbabel.OBMol`, typically imported from SMILES or InChI.\n",
    "This Jupyter notebook illustrates how to use the `BcForms` Python library via some simple and complex examples. Please see the [documentation](https://docs.karrlab.org/bcforms/) for more information."
   ]
  },
  {
   "cell_type": "markdown",
   "metadata": {},
   "source": [
    "## Import `BcForms` to represent complexes and other modules to represent subunits"
   ]
  },
  {
   "cell_type": "code",
   "execution_count": 1,
   "metadata": {},
   "outputs": [],
   "source": [
    "import bcforms # represent complexes\n",
    "import bpforms # represent DNA, RNA, and protein subunits\n",
    "import openbabel # represent small molecule subunits and import their descriptions from SMILES, InChI, etc.\n",
    "from wc_utils.util.chem import OpenBabelUtils # high-level interfaces to use OpenBable to export structures of complexes to SMILES, InChI, etc."
   ]
  },
  {
   "cell_type": "markdown",
   "metadata": {},
   "source": [
    "## Simple `BcForms` examples\n",
    "This section illustrates how to use the `BcForms` notation with several simple examples."
   ]
  },
  {
   "cell_type": "markdown",
   "metadata": {},
   "source": [
    "### Representing, validating, and calculating properties of a homodimer with no crosslinks\n",
    "#### Representing a homodimer with no crosslinks\n",
    "This example illustrates how to use `BcForms` to describe a homodimer of subunit `unit_1`, which is the peptide tri-alanine (AAA)."
   ]
  },
  {
   "cell_type": "code",
   "execution_count": 2,
   "metadata": {},
   "outputs": [],
   "source": [
    "bc_form_1 = bcforms.BcForm().from_str('2 * unit_1')\n",
    "bc_form_1.set_subunit_attribute('unit_1', 'structure', bpforms.ProteinForm().from_str('AAA'))"
   ]
  },
  {
   "cell_type": "markdown",
   "metadata": {},
   "source": [
    "#### Validate the `BcForm` representation of the homodimer\n",
    "The `BcForm.validate` method can be used to check that there are no errors in the `BcForms` representation of the homodimer.\n",
    "The `validate` method will return a list of any errors."
   ]
  },
  {
   "cell_type": "code",
   "execution_count": 3,
   "metadata": {},
   "outputs": [
    {
     "data": {
      "text/plain": [
       "[]"
      ]
     },
     "execution_count": 3,
     "metadata": {},
     "output_type": "execute_result"
    }
   ],
   "source": [
    "bc_form_1.validate()"
   ]
  },
  {
   "cell_type": "markdown",
   "metadata": {},
   "source": [
    "#### Calculate physical properties and structure of the `Bcforms` object\n",
    "`BcForms` can also be used to calculate properties of complexes, such as their atom-bond structure, formula, molecular weight, and charge."
   ]
  },
  {
   "cell_type": "code",
   "execution_count": 4,
   "metadata": {},
   "outputs": [
    {
     "data": {
      "text/plain": [
       "'C18H36N6O8'"
      ]
     },
     "execution_count": 4,
     "metadata": {},
     "output_type": "execute_result"
    }
   ],
   "source": [
    "str(bc_form_1.get_formula())"
   ]
  },
  {
   "cell_type": "code",
   "execution_count": 5,
   "metadata": {},
   "outputs": [
    {
     "data": {
      "text/plain": [
       "464.52000000000004"
      ]
     },
     "execution_count": 5,
     "metadata": {},
     "output_type": "execute_result"
    }
   ],
   "source": [
    "bc_form_1.get_mol_wt()"
   ]
  },
  {
   "cell_type": "code",
   "execution_count": 6,
   "metadata": {},
   "outputs": [
    {
     "data": {
      "text/plain": [
       "2"
      ]
     },
     "execution_count": 6,
     "metadata": {},
     "output_type": "execute_result"
    }
   ],
   "source": [
    "bc_form_1.get_charge()"
   ]
  },
  {
   "cell_type": "code",
   "execution_count": 7,
   "metadata": {},
   "outputs": [
    {
     "data": {
      "text/plain": [
       "'C[C@H]([NH3+])C(=O)N[C@@H](C)C(=O)N[C@@H](C)C(=O)O.C[C@H]([NH3+])C(=O)N[C@@H](C)C(=O)N[C@@H](C)C(=O)O'"
      ]
     },
     "execution_count": 7,
     "metadata": {},
     "output_type": "execute_result"
    }
   ],
   "source": [
    "OpenBabelUtils.export(bc_form_1.get_structure(), format='smiles', options=[])"
   ]
  },
  {
   "cell_type": "markdown",
   "metadata": {},
   "source": [
    "#### Check if two biocomplexes are equal\n",
    "The `BcForm.is_equal` method can be used to check whether two complexes are semantically equal."
   ]
  },
  {
   "cell_type": "code",
   "execution_count": 8,
   "metadata": {},
   "outputs": [
    {
     "data": {
      "text/plain": [
       "True"
      ]
     },
     "execution_count": 8,
     "metadata": {},
     "output_type": "execute_result"
    }
   ],
   "source": [
    "bc_form_1_t = bcforms.BcForm().from_str('unit_1 + unit_1')\n",
    "bc_form_1_t.set_subunit_attribute('unit_1', 'structure', bpforms.ProteinForm().from_str('AAA'))\n",
    "bc_form_1.is_equal(bc_form_1_t)"
   ]
  },
  {
   "cell_type": "code",
   "execution_count": 9,
   "metadata": {},
   "outputs": [
    {
     "data": {
      "text/plain": [
       "False"
      ]
     },
     "execution_count": 9,
     "metadata": {},
     "output_type": "execute_result"
    }
   ],
   "source": [
    "bc_form_1_f = bcforms.BcForm().from_str('3 * unit_1')\n",
    "bc_form_1_f.set_subunit_attribute('unit_1', 'structure', bpforms.ProteinForm().from_str('AAA'))\n",
    "bc_form_1.is_equal(bc_form_1_f)"
   ]
  },
  {
   "cell_type": "markdown",
   "metadata": {},
   "source": [
    "### Representing, validating, and calculating properties of a homodimer with a disulfide bond\n",
    "This example illustrates how to use `BcForms` to represent a homodimer of subunit `unit_2`, which is the single amino acid cysteine, with a disulfide bond between the cysteines."
   ]
  },
  {
   "cell_type": "code",
   "execution_count": 10,
   "metadata": {},
   "outputs": [],
   "source": [
    "bc_form_2 = bcforms.BcForm().from_str('2 * unit_2'\n",
    "                                      '| crosslink: [ left-bond-atom: unit_2(1)-1S11 |'\n",
    "                                                    ' left-displaced-atom: unit_2(1)-1H11-1 |'\n",
    "                                                    ' right-bond-atom: unit_2(2)-1S11 |'\n",
    "                                                    ' right-displaced-atom: unit_2(2)-1H11-1 ]')\n",
    "bc_form_2.set_subunit_attribute('unit_2', 'structure', bpforms.ProteinForm().from_str('C'))"
   ]
  },
  {
   "cell_type": "markdown",
   "metadata": {},
   "source": [
    "#### Validate the `BcForms` representation of the homodimer",
   ]
  },
  {
   "cell_type": "code",
   "execution_count": 11,
   "metadata": {},
   "outputs": [
    {
     "data": {
      "text/plain": [
       "[]"
      ]
     },
     "execution_count": 11,
     "metadata": {},
     "output_type": "execute_result"
    }
   ],
   "source": [
    "bc_form_2.validate()"
   ]
  },
  {
   "cell_type": "markdown",
   "metadata": {},
   "source": [
    "#### Calculate physical properties and structure of the `Bcforms` object"
   ]
  },
  {
   "cell_type": "code",
   "execution_count": 12,
   "metadata": {},
   "outputs": [
    {
     "data": {
      "text/plain": [
       "'C6H14N2O4S2'"
      ]
     },
     "execution_count": 12,
     "metadata": {},
     "output_type": "execute_result"
    }
   ],
   "source": [
    "str(bc_form_2.get_formula())"
   ]
  },
  {
   "cell_type": "code",
   "execution_count": 13,
   "metadata": {},
   "outputs": [
    {
     "data": {
      "text/plain": [
       "242.308"
      ]
     },
     "execution_count": 13,
     "metadata": {},
     "output_type": "execute_result"
    }
   ],
   "source": [
    "bc_form_2.get_mol_wt()"
   ]
  },
  {
   "cell_type": "code",
   "execution_count": 14,
   "metadata": {},
   "outputs": [
    {
     "data": {
      "text/plain": [
       "4"
      ]
     },
     "execution_count": 14,
     "metadata": {},
     "output_type": "execute_result"
    }
   ],
   "source": [
    "bc_form_2.get_charge()"
   ]
  },
  {
   "cell_type": "code",
   "execution_count": 15,
   "metadata": {},
   "outputs": [
    {
     "data": {
      "text/plain": [
       "'OC(=O)[C@@H]([NH3+])CSSC[C@@H](C(=O)O)[NH3+]'"
      ]
     },
     "execution_count": 15,
     "metadata": {},
     "output_type": "execute_result"
    }
   ],
   "source": [
    "OpenBabelUtils.export(bc_form_2.get_structure(), format='smiles', options=[])"
   ]
  },
  {
   "cell_type": "markdown",
   "metadata": {},
   "source": [
    "## Examples of real macromolecular complexes\n",
    "This section illustrates how to use `BcForms` to represent real protein complexes that are annotated in the PDB and UniProt."
   ]
  },
  {
   "cell_type": "markdown",
   "metadata": {},
   "source": [
    "### Complexes with disulfide bonds\n",
    "Disulfide bonds are one of the best characterized types of intermolecular crosslinks. Disulfide bonds are covalent bonds between cysteine residues in proteins. For more information, see [UniProt](https://www.uniprot.org/help/disulfid).\n",    
    "`BpForms` can be used to represent intrachain disulfide bonds, and `BcForms` can be used to represent interchain disulfide bonds.\",
    "Here, we demonstrate how to use `BcForms` to represent disulfide bonds via three examples: a parallel homodimer, an anti-parallel homodimer, and a heterodimer."
   ]
  },
  {
   "cell_type": "markdown",
   "metadata": {},
   "source": [
    "#### Parallel homodimer\n",
    "This example illustrates how to use `BcForms` to represent bone morphogenetic protein 2-A (bmp2-a, [P25703](https://www.uniprot.org/uniprot/P25703)) from *Xenopus laevis*, which forms a parallel homodimer with a disulfide link at C-362 after post-translational processing to remove all of the amino acids before 285th residue and after the 398th residue.\n",
    "##### Representing and calculating properties of the subunits\n",
    "First, we illustrate how to use `BpForms` to represent the post-translationally processed subunits."
   ]
  },
  {
   "cell_type": "code",
   "execution_count": 16,
   "metadata": {},
   "outputs": [],
   "source": [
    "def get_chain(fasta, chain_idx):\n",
    "    chain_fasta = fasta[chain_idx[0]-1:chain_idx[1]]\n",
    "    chain = bpforms.ProteinForm().from_str(fasta)\n",
    "    return chain"
   ]
  },
  {
   "cell_type": "code",
   "execution_count": 17,
   "metadata": {},
   "outputs": [],
   "source": [
    "p25703_fasta = ('MVAGIHSLLLLLFYQVLLSGCTGLIPEEGKRKYTESGRSSPQQSQRVLNQFELRLLSMFG'\n",
    "                'LKRRPTPGKNVVIPPYMLDLYHLHLAQLAADEGTSAMDFQMERAASRANTVRSFHHEESM'\n",
    "                'EEIPESREKTIQRFFFNLSSIPNEELVTSAELRIFREQVQEPFESDSSKLHRINIYDIVK'\n",
    "                'PAAAASRGPVVRLLDTRLVHHNESKWESFDVTPAIARWIAHKQPNHGFVVEVNHLDNDKN'\n",
    "                'VPKKHVRISRSLTPDKDNWPQIRPLLVTFSHDGKGHALHKRQKRQARHKQRKRLKSSCRR'\n",
    "                'HPLYVDFSDVGWNDWIVAPPGYHAFYCHGECPFPLADHLNSTNHAIVQTLVNSVNTNIPK'\n",
    "                'ACCVPTELSAISMLYLDENEKVVLKNYQDMVVEGCGCR')\n",
    "p25703_chain_idx = (285,398)\n",
    "p25703_chain = get_chain(p25703_fasta, p25703_chain_idx)"
   ]
  },
  {
   "cell_type": "code",
   "execution_count": 18,
   "metadata": {},
   "outputs": [
    {
     "data": {
      "text/plain": [
       "'C2023H3233N591O536S16'"
      ]
     },
     "execution_count": 18,
     "metadata": {},
     "output_type": "execute_result"
    }
   ],
   "source": [
    "str(p25703_chain.get_formula())"
   ]
  },
  {
   "cell_type": "code",
   "execution_count": 19,
   "metadata": {},
   "outputs": [
    {
     "data": {
      "text/plain": [
       "44923.678"
      ]
     },
     "execution_count": 19,
     "metadata": {},
     "output_type": "execute_result"
    }
   ],
   "source": [
    "p25703_chain.get_mol_wt()"
   ]
  },
  {
   "cell_type": "markdown",
   "metadata": {},
   "source": [
    "##### Representing and calculating properties of the complex\n",
    "Second, we illustrate how to use `BcForms` to represent the complex."
   ]
  },
  {
   "cell_type": "code",
   "execution_count": 20,
   "metadata": {},
   "outputs": [],
   "source": [
    "str_bmp2a = ('2 * p25703'\n",
    "             ' | crosslink: [ left-bond-atom: p25703(1)-{}S11 |'\n",
    "                            ' right-bond-atom: p25703(2)-{}S11 |' \n",
    "                            ' left-displaced-atom: p25703(1)-{}H11-1 |'\n",
    "                            'right-displaced-atom: p25703(2)-{}H11-1 ]'.format( \\\n",
    "                            362-p25703_chain_idx[0], 362-p25703_chain_idx[0], \\\n",
    "                            362-p25703_chain_idx[0], 362-p25703_chain_idx[0]))\n",
    "bc_form_bmp2a = bcforms.BcForm().from_str(str_bmp2a)\n",
    "bc_form_bmp2a.set_subunit_attribute('p25703', 'structure', p25703_chain)"
   ]
  },
  {
   "cell_type": "markdown",
   "metadata": {},
   "source": [
    "With this `BcForms`, we can calculate properties of the complex such as its formula, molecular weight, and charge."
   ]
  },
  {
   "cell_type": "code",
   "execution_count": 21,
   "metadata": {},
   "outputs": [
    {
     "data": {
      "text/plain": [
       "'C4046H6464N1182O1072S32'"
      ]
     },
     "execution_count": 21,
     "metadata": {},
     "output_type": "execute_result"
    }
   ],
   "source": [
    "str(bc_form_bmp2a.get_formula())"
   ]
  },
  {
   "cell_type": "code",
   "execution_count": 22,
   "metadata": {},
   "outputs": [
    {
     "data": {
      "text/plain": [
       "89845.34"
      ]
     },
     "execution_count": 22,
     "metadata": {},
     "output_type": "execute_result"
    }
   ],
   "source": [
    "bc_form_bmp2a.get_mol_wt()"
   ]
  },
  {
   "cell_type": "markdown",
   "metadata": {},
   "source": [
    "As shown above, the formula of the complex is 2 hydrogen atoms less than 2 times the formula of the subunit, and the molecular weight is approximately 2 Da less than 2 times that of the subunit."
   ]
  },
  {
   "cell_type": "markdown",
   "metadata": {},
   "source": [
    "#### Anti-parallel homodimer\n",
    "This following example illustrates how `BcForms` can be used to represent anti-parallel homodimer of disintegrin schistatin ([P83658](https://www.uniprot.org/uniprot/P83658)) from *Echis carinatus*, with the subunits linked by disulfide bonds between C-7 and C-12.\n",
    "##### Representing the subunits with `BpForms`\n",
    "First, we illustrate how `BpForms` can be used to represent the structure of the subunits and calculate properties of the subunits."
   ]
  },
  {
   "cell_type": "code",
   "execution_count": 23,
   "metadata": {},
   "outputs": [],
   "source": [
    "p83658_fasta = ('NSVHPCCDPVICEPREGEHCISGPCCENCYFLNSGTICKRARGDGNQDYCTGITPDCPRN'\n",
    "                'RYNV')\n",
    "p83658_chain_idx = (1,64)\n",
    "p83658_chain = get_chain(p83658_fasta, p83658_chain_idx)"
   ]
  },
  {
   "cell_type": "code",
   "execution_count": 24,
   "metadata": {
    "scrolled": true
   },
   "outputs": [
    {
     "data": {
      "text/plain": [
       "'C290H456N91O89S10'"
      ]
     },
     "execution_count": 24,
     "metadata": {},
     "output_type": "execute_result"
    }
   ],
   "source": [
    "str(p83658_chain.get_formula())"
   ]
  },
  {
   "cell_type": "code",
   "execution_count": 25,
   "metadata": {},
   "outputs": [
    {
     "data": {
      "text/plain": [
       "6961.986"
      ]
     },
     "execution_count": 25,
     "metadata": {},
     "output_type": "execute_result"
    }
   ],
   "source": [
    "p83658_chain.get_mol_wt()"
   ]
  },
  {
   "cell_type": "markdown",
   "metadata": {},
   "source": [
    "##### Representing the complex with `BcForms`\n",
    "Second, we illustrate how `BcForms` can be used to represent the complex."
   ]
  },
  {
   "cell_type": "code",
   "execution_count": 26,
   "metadata": {},
   "outputs": [],
   "source": [
    "str_dids = ('2 * p83658'\n",
    "            ' | crosslink: [ left-bond-atom: p83658(1)-{}S11 |'\n",
    "                           ' right-bond-atom: p25703(2)-{}S11 |'\n",
    "                           ' left-displaced-atom: p25703(1)-{}H11-1 |'\n",
    "                           ' right-displaced-atom: p25703(2)-{}H11-1 ]'\n",
    "            ' | crosslink: [ left-bond-atom: p83658(1)-{}S11 |'\n",
    "                           ' right-bond-atom: p25703(2)-{}S11 |'\n",
    "                           ' left-displaced-atom: p25703(1)-{}H11-1 |'\n",
    "                           ' right-displaced-atom: p25703(2)-{}H11-1 ]'.format( \\\n",
    "                            7-p83658_chain_idx[0], 12-p83658_chain_idx[0], \\\n",
    "                            7-p83658_chain_idx[0], 12-p83658_chain_idx[0], \\\n",
    "                            7-p83658_chain_idx[0], 12-p83658_chain_idx[0], \\\n",
    "                            7-p83658_chain_idx[0], 12-p83658_chain_idx[0]))\n",
    "bc_form_dids = bcforms.BcForm().from_str(str_dids)\n",
    "bc_form_dids.set_subunit_attribute('p83658', 'structure', p83658_chain)"
   ]
  },
  {
   "cell_type": "markdown",
   "metadata": {},
   "source": [
    "As illustrated below, `BcForms` can also be used to compute physical properties of the complex."
   ]
  },
  {
   "cell_type": "code",
   "execution_count": 27,
   "metadata": {},
   "outputs": [
    {
     "data": {
      "text/plain": [
       "'C580H908N182O178S20'"
      ]
     },
     "execution_count": 27,
     "metadata": {},
     "output_type": "execute_result"
    }
   ],
   "source": [
    "str(bc_form_dids.get_formula())"
   ]
  },
  {
   "cell_type": "code",
   "execution_count": 28,
   "metadata": {},
   "outputs": [
    {
     "data": {
      "text/plain": [
       "13919.94"
      ]
     },
     "execution_count": 28,
     "metadata": {},
     "output_type": "execute_result"
    }
   ],
   "source": [
    "bc_form_dids.get_mol_wt()"
   ]
  },
  {
   "cell_type": "markdown",
   "metadata": {},
   "source": [
    "As shown above, the formula of the complex is 4 hydrogens less than 2 times the formula of the subunit, and the molecular weight of the complex is approximately 4 Da less than 2 times that of the subunit."
   ]
  },
  {
   "cell_type": "markdown",
   "metadata": {},
   "source": [
    "#### Heterodimer\n",
    "Here, we illustrate how `BcForms` can be used to represent snaclec botrocetin of *Bothrops jajaraca*, a heterodimer of subunits alpha ([P22029](https://www.uniprot.org/uniprot/P22029)) and beta ([P22030](https://www.uniprot.org/uniprot/P22030)) which are linked by a disulfide bond between C-80 of P22029 and C-75 of P22030.\n",
    "##### Representing the subunits with `BpForms`\n",
    "First, we illustrate how `BpForms` can be used to represent and calculate properties of the two subunits."
   ]
  },
  {
   "cell_type": "code",
   "execution_count": 29,
   "metadata": {},
   "outputs": [],
   "source": [
    "p22029_fasta = ('DCPSGWSSYEGNCYKFFQQKMNWADAERFCSEQAKGGHLVSIKIYSKEKDFVGDLVTKNI'\n",
    "                'QSSDLYAWIGLRVENKEKQCSSEWSDGSSVSYENVVERTVKKCFALEKDLGFVLWINLYC'\n",
    "                'AQKNPFVCKSPPP')\n",
    "p22029_chain_idx = (1,133)\n",
    "p22029_chain = get_chain(p22029_fasta, p22029_chain_idx)"
   ]
  },
  {
   "cell_type": "code",
   "execution_count": 30,
   "metadata": {},
   "outputs": [
    {
     "data": {
      "text/plain": [
       "'C682H1048N176O187S8'"
      ]
     },
     "execution_count": 30,
     "metadata": {},
     "output_type": "execute_result"
    }
   ],
   "source": [
    "str(p22029_chain.get_formula())"
   ]
  },
  {
   "cell_type": "code",
   "execution_count": 31,
   "metadata": {},
   "outputs": [
    {
     "data": {
      "text/plain": [
       "14961.410999999998"
      ]
     },
     "execution_count": 31,
     "metadata": {},
     "output_type": "execute_result"
    }
   ],
   "source": [
    "p22029_chain.get_mol_wt()"
   ]
  },
  {
   "cell_type": "code",
   "execution_count": 32,
   "metadata": {},
   "outputs": [],
   "source": [
    "p22030_fasta = ('DCPPDWSSYEGHCYRFFKEWMHWDDAEEFCTEQQTGAHLVSFQSKEEADFVRSLTSEMLK'\n",
    "                'GDVVWIGLSDVWNKCRFEWTDGMEFDYDDYYLIAEYECVASKPTNNKWWIIPCTRFKNFV'\n",
    "                'CEFQA')\n",
    "p22030_chain_idx = (1,133)\n",
    "p22030_chain = get_chain(p22030_fasta, p22030_chain_idx)"
   ]
  },
  {
   "cell_type": "code",
   "execution_count": 33,
   "metadata": {},
   "outputs": [
    {
     "data": {
      "text/plain": [
       "'C682H972N166O178S10'"
      ]
     },
     "execution_count": 33,
     "metadata": {},
     "output_type": "execute_result"
    }
   ],
   "source": [
    "str(p22030_chain.get_formula())"
   ]
  },
  {
   "cell_type": "code",
   "execution_count": 34,
   "metadata": {},
   "outputs": [
    {
     "data": {
      "text/plain": [
       "14664.862000000001"
      ]
     },
     "execution_count": 34,
     "metadata": {},
     "output_type": "execute_result"
    }
   ],
   "source": [
    "p22030_chain.get_mol_wt()"
   ]
  },
  {
   "cell_type": "markdown",
   "metadata": {},
   "source": [
    "##### Representing the complex with `BcForms`\n",
    "Below, we illustrate how to use `BcForms` to represent the heterodimer."
   ]
  },
  {
   "cell_type": "code",
   "execution_count": 35,
   "metadata": {},
   "outputs": [],
   "source": [
    "str_sle = ('p22029 + p22030'\n",
    "           ' | crosslink: [ left-bond-atom: p22029(1)-{}S11 |'\n",
    "                          ' right-bond-atom: p22030(2)-{}S11 |'\n",
    "                          ' left-displaced-atom: p22029(1)-{}H11-1 |'\n",
    "                          ' right-displaced-atom: p22030(2)-{}H11-1 ]'.format( \\\n",
    "                          80-p22029_chain_idx[0], 75-p22030_chain_idx[0], \\\n",
    "                          80-p22029_chain_idx[0], 75-p22030_chain_idx[0]))\n",
    "bc_form_sle = bcforms.BcForm().from_str(str_sle)\n",
    "bc_form_sle.set_subunit_attribute('p22029', 'structure', p22029_chain)\n",
    "bc_form_sle.set_subunit_attribute('p22030', 'structure', p22030_chain)"
   ]
  },
  {
   "cell_type": "markdown",
   "metadata": {},
   "source": [
    "As illustrated below, `BcForms` can also be used to compute the formula and molecular weight of the complex."
   ]
  },
  {
   "cell_type": "code",
   "execution_count": 36,
   "metadata": {},
   "outputs": [
    {
     "data": {
      "text/plain": [
       "'C1364H2018N342O365S18'"
      ]
     },
     "execution_count": 36,
     "metadata": {},
     "output_type": "execute_result"
    }
   ],
   "source": [
    "str(bc_form_sle.get_formula())"
   ]
  },
  {
   "cell_type": "code",
   "execution_count": 37,
   "metadata": {},
   "outputs": [
    {
     "data": {
      "text/plain": [
       "29624.256999999998"
      ]
     },
     "execution_count": 37,
     "metadata": {},
     "output_type": "execute_result"
    }
   ],
   "source": [
    "bc_form_sle.get_mol_wt()"
   ]
  },
  {
   "cell_type": "markdown",
   "metadata": {},
   "source": [
    "### Complexes with other types of crosslinks\n",
    "DNA, RNA, and protein polymers can be covalent bound by a variety of other types of crosslinks in addition to disulfide bonds. See [UniProt](https://www.uniprot.org/help/crosslnk) for more information.\n",
    "The PDB, UniProt, and other database contain detailed information about crosslinks among DNA, RNA, proteins, and small molecules.\n",
    "Here, we illustrate how `BcForms` can be used to concretely represent complexes that contain several types of these crosslinks."
   ]
  },
  {
   "cell_type": "markdown",
   "metadata": {},
   "source": [
    "#### Sumoylation\n",
    "Sumoylation is a common interchain crosslink that binds small SUMO peptides to proteins to retain proteins in the nucleus.\n",
    "In this example, we illustrate how `BcForms` can be used to represent the sumoylation of human chromatin assembly factor 1 subunit A ([Q13111](https://www.uniprot.org/uniprot/Q13111)) by [P63165](https://www.uniprot.org/uniprot/P63165). The sumoylation takes place between K-182 of Q13111 and 
    G-97 of P63165, forming a Glycyl lysine isopeptide bond ([AA0125](https://annotation.dbi.udel.edu/cgi-bin/resid?id=AA0125)).\n",
    "##### Representing the subunits with `BpForms`\n",
    "First, we illustrate how `BpForms` can be used to describe the subunits."
   ]
  },
  {
   "cell_type": "code",
   "execution_count": 38,
   "metadata": {},
   "outputs": [],
   "source": [
    "q13111_fasta = ('MLEELECGAPGARGAATAMDCKDRPAFPVKKLIQARLPFKRLNLVPKGKADDMSDDQGTS'\n",
    "                'VQSKSPDLEASLDTLENNCHVGSDIDFRPKLVNGKGPLDNFLRNRIETSIGQSTVIIDLT'\n",
    "                'EDSNEQPDSLVDHNKLNSEASPSREAINGQREDTGDQQGLLKAIQNDKLAFPGETLSDIP'\n",
    "                'CKTEEEGVGCGGAGRRGDSQECSPRSCPELTSGPRMCPRKEQDSWSEAGGILFKGKVPMV'\n",
    "                'VLQDILAVRPPQIKSLPATPQGKNMTPESEVLESFPEEDSVLSHSSLSSPSSTSSPEGPP'\n",
    "                'APPKQHSSTSPFPTSTPLRRITKKFVKGSTEKNKLRLQRDQERLGKQLKLRAEREEKEKL'\n",
    "                'KEEAKRAKEEAKKKKEEEKELKEKERREKREKDEKEKAEKQRLKEERRKERQEALEAKLE'\n",
    "                'EKRKKEEEKRLREEEKRIKAEKAEITRFFQKPKTPQAPKTLAGSCGKFAPFEIKEHMVLA'\n",
    "                'PRRRTAFHPDLCSQLDQLLQQQSGEFSFLKDLKGRQPLRSGPTHVSTRNADIFNSDVVIV'\n",
    "                'ERGKGDGVPERRKFGRMKLLQFCENHRPAYWGTWNKKTALIRARDPWAQDTKLLDYEVDS'\n",
    "                'DEEWEEEEPGESLSHSEGDDDDDMGEDEDEDDGFFVPHGYLSEDEGVTEECADPENHKVR'\n",
    "                'QKLKAKEWDEFLAKGKRFRVLQPVKIGCVWAADRDCAGDDLKVLQQFAACFLETLPAQEE'\n",
    "                'QTPKASKRERRDEQILAQLLPLLHGNVNGSKVIIREFQEHCRRGLLSNHTGSPRSPSTTY'\n",
    "                'LHTPTPSEDAAIPSKSRLKRLISENSVYEKRPDFRMCWYVHPQVLQSFQQEHLPVPCQWS'\n",
    "                'YVTSVPSAPKEDSGSVPSTGPSQGTPISLKRKSAGSMCITQFMKKRRHDGQIGAEDMDGF'\n",
    "                'QADTEEEEEEEGDCMIVDVPDAAEVQAPCGAASGAGGGVGVDTGKATLTASPLGAS')\n",
    "q13111_chain_idx = (1,956)\n",
    "q13111_chain = get_chain(q13111_fasta, q13111_chain_idx)"
   ]
  },
  {
   "cell_type": "code",
   "execution_count": 39,
   "metadata": {},
   "outputs": [
    {
     "data": {
      "text/plain": [
       "'C4613H7563N1356O1324S35'"
      ]
     },
     "execution_count": 39,
     "metadata": {},
     "output_type": "execute_result"
    }
   ],
   "source": [
    "str(q13111_chain.get_formula())"
   ]
  },
  {
   "cell_type": "code",
   "execution_count": 40,
   "metadata": {},
   "outputs": [
    {
     "data": {
      "text/plain": [
       "104328.51500000001"
      ]
     },
     "execution_count": 40,
     "metadata": {},
     "output_type": "execute_result"
    }
   ],
   "source": [
    "q13111_chain.get_mol_wt()"
   ]
  },
  {
   "cell_type": "code",
   "execution_count": 41,
   "metadata": {},
   "outputs": [],
   "source": [
    "p63165_fasta = ('MSDQEAKPSTEDLGDKKEGEYIKLKVIGQDSSEIHFKVKMTTHLKKLKESYCQRQGVPMN'\n",
    "                'SLRFLFEGQRIADNHTPKELGMEEEDVIEVYQEQTGGHSTV')\n",
    "p63165_chain_idx = (2,97)\n",
    "p63165_chain = get_chain(p63165_fasta, p63165_chain_idx)"
   ]
  },
  {
   "cell_type": "code",
   "execution_count": 42,
   "metadata": {},
   "outputs": [
    {
     "data": {
      "text/plain": [
       "'C501H815N138O146S5'"
      ]
     },
     "execution_count": 42,
     "metadata": {},
     "output_type": "execute_result"
    }
   ],
   "source": [
    "str(p63165_chain.get_formula())"
   ]
  },
  {
   "cell_type": "code",
   "execution_count": 43,
   "metadata": {},
   "outputs": [
    {
     "data": {
      "text/plain": [
       "11268.150999999998"
      ]
     },
     "execution_count": 43,
     "metadata": {},
     "output_type": "execute_result"
    }
   ],
   "source": [
    "p63165_chain.get_mol_wt()"
   ]
  },
  {
   "cell_type": "markdown",
   "metadata": {},
   "source": [
    "##### Representing the complex with `BcForms`\n",
    "Second, we illustrate how `BcForms` can be used to represent the complex."
   ]
  },
  {
   "cell_type": "code",
   "execution_count": 44,
   "metadata": {},
   "outputs": [],
   "source": [
    "str_sumo = ('q13111 + p63165'\n",
    "           ' | crosslink: [ left-bond-atom: q13111-{}N1-1 |'\n",
    "                          ' right-bond-atom: p63165-{}C2 |'\n",
    "                          ' left-displaced-atom: q13111-{}H1+1 |'\n",
    "                          ' left-displaced-atom: q13111-{}H1 |' \n",
    "                          ' right-displaced-atom: p63165-{}O1 |'\n",
    "                          ' right-displaced-atom: p63165-{}H1 ]'.format( \\\n",
    "                           182-q13111_chain_idx[0], 97-p63165_chain_idx[0], \\\n",
    "                           182-q13111_chain_idx[0], 182-q13111_chain_idx[0], \\\n",
    "                           97-p63165_chain_idx[0], 97-p63165_chain_idx[0]))\n",
    "bc_form_sumo = bcforms.BcForm().from_str(str_sumo)\n",
    "bc_form_sumo.set_subunit_attribute('q13111', 'structure', q13111_chain)\n",
    "bc_form_sumo.set_subunit_attribute('p63165', 'structure', p63165_chain)"
   ]
  },
  {
   "cell_type": "code",
   "execution_count": 45,
   "metadata": {},
   "outputs": [
    {
     "data": {
      "text/plain": [
       "'C5114H8375N1494O1469S40'"
      ]
     },
     "execution_count": 45,
     "metadata": {},
     "output_type": "execute_result"
    }
   ],
   "source": [
    "str(bc_form_sumo.get_formula())"
   ]
  },
  {
   "cell_type": "code",
   "execution_count": 46,
   "metadata": {},
   "outputs": [
    {
     "data": {
      "text/plain": [
       "115577.64300000001"
      ]
     },
     "execution_count": 46,
     "metadata": {},
     "output_type": "execute_result"
    }
   ],
   "source": [
    "bc_form_sumo.get_mol_wt()"
   ]
  },
  {
   "cell_type": "markdown",
   "metadata": {},
   "source": [
    "#### Pupylation\n",
    "Proteins can be tagged for proteasomal degradation through the formation of crosslinks with pup protein tags.\n",
    "This example illustrates how `BcForms` can be used to represent the pupylation of 10 kDa chaperonin ([P9WPE5](https://www.uniprot.org/uniprot/P9WPE5)) of *Mycobacterium tuberculosis* by prokaryotic ubiquitin-like protein Pup ([P9WHN5](https://www.uniprot.org/uniprot/P9WHN5)), involving a isoglutamyl lysine isopeptide bond ([AA0124](https://annotation.dbi.udel.edu/cgi-bin/resid?id=AA0124)).\n",
    "##### Representing the subunits with `BpForms`\n",
    "First, we illustrate how `BpForms` can be used to represent the subunits."
   ]
  },
  {
   "cell_type": "code",
   "execution_count": 47,
   "metadata": {},
   "outputs": [],
   "source": [
    "P9WHN5_fasta = ('MAQEQTKRGGGGGDDDDIAGSTAAGQERREKLTEETDDLLDEIDDVLEENAEDFVRAYVQ'\n",
    "                'KGGQ')\n",
    "P9WHN5_chain_idx = (1,64)\n",
    "P9WHN5_chain = get_chain(P9WHN5_fasta, P9WHN5_chain_idx)"
   ]
  },
  {
   "cell_type": "code",
   "execution_count": 48,
   "metadata": {},
   "outputs": [
    {
     "data": {
      "text/plain": [
       "'C285H463N85O96S'"
      ]
     },
     "execution_count": 48,
     "metadata": {},
     "output_type": "execute_result"
    }
   ],
   "source": [
    "str(P9WHN5_chain.get_formula())"
   ]
  },
  {
   "cell_type": "code",
   "execution_count": 49,
   "metadata": {},
   "outputs": [
    {
     "data": {
      "text/plain": [
       "6648.398"
      ]
     },
     "execution_count": 49,
     "metadata": {},
     "output_type": "execute_result"
    }
   ],
   "source": [
    "P9WHN5_chain.get_mol_wt()"
   ]
  },
  {
   "cell_type": "code",
   "execution_count": 50,
   "metadata": {},
   "outputs": [],
   "source": [
    "P9WPE5_fasta = ('MAKVNIKPLEDKILVQANEAETTTASGLVIPDTAKEKPQEGTVVAVGPGRWDEDGEKRIP'\n",
    "                'LDVAEGDTVIYSKYGGTEIKYNGEEYLILSARDVLAVVSK')\n",
    "P9WPE5_chain_idx = (2,100)\n",
    "P9WPE5_chain = get_chain(P9WPE5_fasta, P9WPE5_chain_idx)"
   ]
  },
  {
   "cell_type": "code",
   "execution_count": 51,
   "metadata": {},
   "outputs": [
    {
     "data": {
      "text/plain": [
       "'C478H789N124O139S'"
      ]
     },
     "execution_count": 51,
     "metadata": {},
     "output_type": "execute_result"
    }
   ],
   "source": [
    "str(P9WPE5_chain.get_formula())"
   ]
  },
  {
   "cell_type": "code",
   "execution_count": 52,
   "metadata": {},
   "outputs": [
    {
     "data": {
      "text/plain": [
       "10529.358999999999"
      ]
     },
     "execution_count": 52,
     "metadata": {},
     "output_type": "execute_result"
    }
   ],
   "source": [
    "P9WPE5_chain.get_mol_wt()"
   ]
  },
  {
   "cell_type": "markdown",
   "metadata": {},
   "source": [
    "##### Representing the complex with `BcForms`\n",
    "Second, we illusrate how `BcForms` can be used to represent and calculate properties of the complex."
   ]
  },
  {
   "cell_type": "code",
   "execution_count": 53,
   "metadata": {},
   "outputs": [],
   "source": [
    "str_pup = ('p9whn5 + p9wpe5'\n",
    "           ' | crosslink: [ left-bond-atom: p9whn5-{}N1-1 |'\n",
    "                          ' right-bond-atom: p9wpe5-{}C2 |'\n",
    "                          ' left-displaced-atom: p9whn5-{}H1+1 |'\n",
    "                          ' left-displaced-atom: p9whn5-{}H1 |' \n",
    "                          ' right-displaced-atom: p9wpe5-{}N1 |'\n",
    "                          ' right-displaced-atom: p9wpe5-{}H1 |'\n",
    "                          ' right-displaced-atom: p9wpe5-{}H1 ]'.format( \\\n",
    "                           100-P9WHN5_chain_idx[0], 64-P9WPE5_chain_idx[0], \\\n",
    "                           100-P9WHN5_chain_idx[0], 100-P9WHN5_chain_idx[0], \\\n",
    "                           64-P9WPE5_chain_idx[0], 64-P9WPE5_chain_idx[0], \\\n",
    "                           64-P9WPE5_chain_idx[0]))\n",
    "bc_form_pup = bcforms.BcForm().from_str(str_pup)\n",
    "bc_form_pup.set_subunit_attribute('p9whn5', 'structure', P9WHN5_chain)\n",
    "bc_form_pup.set_subunit_attribute('p9wpe5', 'structure', P9WPE5_chain)"
   ]
  },
  {
   "cell_type": "code",
   "execution_count": 54,
   "metadata": {},
   "outputs": [
    {
     "data": {
      "text/plain": [
       "'C763H1248N208O235S2'"
      ]
     },
     "execution_count": 54,
     "metadata": {},
     "output_type": "execute_result"
    }
   ],
   "source": [
    "str(bc_form_pup.get_formula())"
   ]
  },
  {
   "cell_type": "code",
   "execution_count": 55,
   "metadata": {},
   "outputs": [
    {
     "data": {
      "text/plain": [
       "17159.71799999999"
      ]
     },
     "execution_count": 55,
     "metadata": {},
     "output_type": "execute_result"
    }
   ],
   "source": [
    "bc_form_pup.get_mol_wt()"
   ]
  }
 ],
 "metadata": {
  "kernelspec": {
   "display_name": "Python 3",
   "language": "python",
   "name": "python3"
  },
  "language_info": {
   "codemirror_mode": {
    "name": "ipython",
    "version": 3
   },
   "file_extension": ".py",
   "mimetype": "text/x-python",
   "name": "python",
   "nbconvert_exporter": "python",
   "pygments_lexer": "ipython3",
   "version": "3.6.8"
  },
  "toc": {
   "base_numbering": 1,
   "nav_menu": {},
   "number_sections": true,
   "sideBar": true,
   "skip_h1_title": false,
   "title_cell": "Table of Contents",
   "title_sidebar": "Contents",
   "toc_cell": false,
   "toc_position": {},
   "toc_section_display": true,
   "toc_window_display": false
  },
  "varInspector": {
   "cols": {
    "lenName": 16,
    "lenType": 16,
    "lenVar": 40
   },
   "kernels_config": {
    "python": {
     "delete_cmd_postfix": "",
     "delete_cmd_prefix": "del ",
     "library": "var_list.py",
     "varRefreshCmd": "print(var_dic_list())"
    },
    "r": {
     "delete_cmd_postfix": ") ",
     "delete_cmd_prefix": "rm(",
     "library": "var_list.r",
     "varRefreshCmd": "cat(var_dic_list()) "
    }
   },
   "types_to_exclude": [
    "module",
    "function",
    "builtin_function_or_method",
    "instance",
    "_Feature"
   ],
   "window_display": false
  }
 },
 "nbformat": 4,
 "nbformat_minor": 2
}
