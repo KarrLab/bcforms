{
 "cells": [
  {
   "cell_type": "markdown",
   "metadata": {},
   "source": [
    "`BcForms` is a toolkit for unambiguously describing biocomplexes. `BcForms` represents biocomplexes as a set of the subunits and their stoichiometries and a set of crosslinks linking the subunits.\n",
    "The subunits can be further described by `BpForms` or `openbabel`.\n",
    "This jupyter notebook illustrates how to use the `BcForms` Python API with some simple and complex examples. Please see the [documentation](https://docs.karrlab.org/bcforms/) for more information."
   ]
  },
  {
   "cell_type": "markdown",
   "metadata": {},
   "source": [
    "### Import `BcForms` and dependencies"
   ]
  },
  {
   "cell_type": "code",
   "execution_count": 1,
   "metadata": {},
   "outputs": [],
   "source": [
    "import bcforms\n",
    "import bpforms\n",
    "import openbabel\n",
    "from wc_utils.util.chem import OpenBabelUtils"
   ]
  },
  {
   "cell_type": "markdown",
   "metadata": {},
   "source": [
    "## Simple `BcForms` examples\n",
    "This section illustrates how to use the BcForm natation with simple examples."
   ]
  },
  {
   "cell_type": "markdown",
   "metadata": {},
   "source": [
    "### Create the `BcForms` object with subunits but no crosslinks\n",
    "In this example, we will describe a homodimer of subunit unit_1, where unit_1 is a peptide AAA."
   ]
  },
  {
   "cell_type": "code",
   "execution_count": 2,
   "metadata": {},
   "outputs": [],
   "source": [
    "bc_form_1 = bcforms.BcForm().from_str('2 * unit_1')\n",
    "bc_form_1.set_subunit_attribute('unit_1', 'structure', bpforms.ProteinForm().from_str('AAA'))"
   ]
  },
  {
   "cell_type": "markdown",
   "metadata": {},
   "source": [
    "#### Validate the `BcForms` object\n",
    "We can validate the `BcForms` object. The function returns a list of errors."
   ]
  },
  {
   "cell_type": "code",
   "execution_count": 3,
   "metadata": {},
   "outputs": [
    {
     "data": {
      "text/plain": [
       "[]"
      ]
     },
     "execution_count": 3,
     "metadata": {},
     "output_type": "execute_result"
    }
   ],
   "source": [
    "bc_form_1.validate()"
   ]
  },
  {
   "cell_type": "markdown",
   "metadata": {},
   "source": [
    "#### Calculate physical properties and structure of the `Bcforms` object\n",
    "Having defined the biocomplex as a `BcForms` object, we can calculate properties and structure of the complex."
   ]
  },
  {
   "cell_type": "code",
   "execution_count": 4,
   "metadata": {},
   "outputs": [
    {
     "data": {
      "text/plain": [
       "'C18H36N6O8'"
      ]
     },
     "execution_count": 4,
     "metadata": {},
     "output_type": "execute_result"
    }
   ],
   "source": [
    "str(bc_form_1.get_formula())"
   ]
  },
  {
   "cell_type": "code",
   "execution_count": 5,
   "metadata": {},
   "outputs": [
    {
     "data": {
      "text/plain": [
       "464.52000000000004"
      ]
     },
     "execution_count": 5,
     "metadata": {},
     "output_type": "execute_result"
    }
   ],
   "source": [
    "bc_form_1.get_mol_wt()"
   ]
  },
  {
   "cell_type": "code",
   "execution_count": 6,
   "metadata": {},
   "outputs": [
    {
     "data": {
      "text/plain": [
       "2"
      ]
     },
     "execution_count": 6,
     "metadata": {},
     "output_type": "execute_result"
    }
   ],
   "source": [
    "bc_form_1.get_charge()"
   ]
  },
  {
   "cell_type": "code",
   "execution_count": 7,
   "metadata": {},
   "outputs": [
    {
     "data": {
      "text/plain": [
       "'C[C@H]([NH3+])C(=O)N[C@@H](C)C(=O)N[C@@H](C)C(=O)O.C[C@H]([NH3+])C(=O)N[C@@H](C)C(=O)N[C@@H](C)C(=O)O'"
      ]
     },
     "execution_count": 7,
     "metadata": {},
     "output_type": "execute_result"
    }
   ],
   "source": [
    "OpenBabelUtils.export(bc_form_1.get_structure(), format='smiles', options=[])"
   ]
  },
  {
   "cell_type": "markdown",
   "metadata": {},
   "source": [
    "#### Check if two biocomplexes are equal\n",
    "We can also check whether two `BcForms` objects are semantically equal."
   ]
  },
  {
   "cell_type": "code",
   "execution_count": 8,
   "metadata": {},
   "outputs": [
    {
     "data": {
      "text/plain": [
       "True"
      ]
     },
     "execution_count": 8,
     "metadata": {},
     "output_type": "execute_result"
    }
   ],
   "source": [
    "bc_form_1_t = bcforms.BcForm().from_str('unit_1 + unit_1')\n",
    "bc_form_1_t.set_subunit_attribute('unit_1', 'structure', bpforms.ProteinForm().from_str('AAA'))\n",
    "bc_form_1.is_equal(bc_form_1_t)"
   ]
  },
  {
   "cell_type": "code",
   "execution_count": 9,
   "metadata": {},
   "outputs": [
    {
     "data": {
      "text/plain": [
       "False"
      ]
     },
     "execution_count": 9,
     "metadata": {},
     "output_type": "execute_result"
    }
   ],
   "source": [
    "bc_form_1_f = bcforms.BcForm().from_str('3 * unit_1')\n",
    "bc_form_1_f.set_subunit_attribute('unit_1', 'structure', bpforms.ProteinForm().from_str('AAA'))\n",
    "bc_form_1.is_equal(bc_form_1_f)"
   ]
  },
  {
   "cell_type": "markdown",
   "metadata": {},
   "source": [
    "### Create the `BcForms` object with subunits and crosslinks\n",
    "In this example, we will describe a homodimer of subunit unit_2, where unit_2 is a single amino acid Cysteine, and that the two subunits are bonded by a disulfide bond between the Cysteines."
   ]
  },
  {
   "cell_type": "code",
   "execution_count": 10,
   "metadata": {},
   "outputs": [],
   "source": [
    "bc_form_2 = bcforms.BcForm().from_str('2 * unit_2'\n",
    "                                      '| crosslink: [ left-bond-atom: unit_2(1)-1S11 |'\n",
    "                                                    ' left-displaced-atom: unit_2(1)-1H11-1 |'\n",
    "                                                    ' right-bond-atom: unit_2(2)-1S11 |'\n",
    "                                                    ' right-displaced-atom: unit_2(2)-1H11-1 ]')\n",
    "bc_form_2.set_subunit_attribute('unit_2', 'structure', bpforms.ProteinForm().from_str('C'))"
   ]
  },
  {
   "cell_type": "markdown",
   "metadata": {},
   "source": [
    "#### Validate the `BcForms` object"
   ]
  },
  {
   "cell_type": "code",
   "execution_count": 11,
   "metadata": {},
   "outputs": [
    {
     "data": {
      "text/plain": [
       "[]"
      ]
     },
     "execution_count": 11,
     "metadata": {},
     "output_type": "execute_result"
    }
   ],
   "source": [
    "bc_form_2.validate()"
   ]
  },
  {
   "cell_type": "markdown",
   "metadata": {},
   "source": [
    "#### Calculate physical properties and structure of the `Bcforms` object"
   ]
  },
  {
   "cell_type": "code",
   "execution_count": 12,
   "metadata": {},
   "outputs": [
    {
     "data": {
      "text/plain": [
       "'C6H14N2O4S2'"
      ]
     },
     "execution_count": 12,
     "metadata": {},
     "output_type": "execute_result"
    }
   ],
   "source": [
    "str(bc_form_2.get_formula())"
   ]
  },
  {
   "cell_type": "code",
   "execution_count": 13,
   "metadata": {},
   "outputs": [
    {
     "data": {
      "text/plain": [
       "242.308"
      ]
     },
     "execution_count": 13,
     "metadata": {},
     "output_type": "execute_result"
    }
   ],
   "source": [
    "bc_form_2.get_mol_wt()"
   ]
  },
  {
   "cell_type": "code",
   "execution_count": 14,
   "metadata": {},
   "outputs": [
    {
     "data": {
      "text/plain": [
       "4"
      ]
     },
     "execution_count": 14,
     "metadata": {},
     "output_type": "execute_result"
    }
   ],
   "source": [
    "bc_form_2.get_charge()"
   ]
  },
  {
   "cell_type": "code",
   "execution_count": 15,
   "metadata": {},
   "outputs": [
    {
     "data": {
      "text/plain": [
       "'OC(=O)[C@@H]([NH3+])CSSC[C@@H](C(=O)O)[NH3+]'"
      ]
     },
     "execution_count": 15,
     "metadata": {},
     "output_type": "execute_result"
    }
   ],
   "source": [
    "OpenBabelUtils.export(bc_form_2.get_structure(), format='smiles', options=[])"
   ]
  },
  {
   "cell_type": "markdown",
   "metadata": {},
   "source": [
    "## Real `BcForms` examples\n",
    "This section uses a few real protein complex to demonstrate BcForm"
   ]
  },
  {
   "cell_type": "markdown",
   "metadata": {},
   "source": [
    "### Disulfide bonds\n",
    "One common type of intermolecular crosslink is disulfide bond. In proteins, disulfide bonds can form between Cysteine residues within a chain or between chains. [This](https://www.uniprot.org/help/disulfid) is a link to the UniProt disulfide bond page for more information. `BcForms` is capable of capturing the interchain disulfide bonds. Here, we  demonstrate the `BcForms` representation of disulfide bonds with three examples: a parallel homodimer, an anti-parallel homodimer, and a heterodimer."
   ]
  },
  {
   "cell_type": "markdown",
   "metadata": {},
   "source": [
    "#### Parallel homodimer\n",
    "This example is [Bone morphogenetic protein 2-A](https://www.uniprot.org/uniprot/P25703) in *Xenopus laevis*. Two bmp-2a units form a disulfide-linked homodimer at C-362. Because many proteins such as bmp2-a go through post-translational processing, we first use a helper function to get the `BpForms` representation of the chain in the mature protein."
   ]
  },
  {
   "cell_type": "code",
   "execution_count": 16,
   "metadata": {},
   "outputs": [],
   "source": [
    "def get_chain(fasta, chain_idx):\n",
    "    chain_fasta = fasta[chain_idx[0]-1:chain_idx[1]]\n",
    "    chain = bpforms.ProteinForm().from_str(fasta)\n",
    "    return chain"
   ]
  },
  {
   "cell_type": "code",
   "execution_count": 17,
   "metadata": {},
   "outputs": [],
   "source": [
    "p25703_fasta = ('MVAGIHSLLLLLFYQVLLSGCTGLIPEEGKRKYTESGRSSPQQSQRVLNQFELRLLSMFG'\n",
    "                'LKRRPTPGKNVVIPPYMLDLYHLHLAQLAADEGTSAMDFQMERAASRANTVRSFHHEESM'\n",
    "                'EEIPESREKTIQRFFFNLSSIPNEELVTSAELRIFREQVQEPFESDSSKLHRINIYDIVK'\n",
    "                'PAAAASRGPVVRLLDTRLVHHNESKWESFDVTPAIARWIAHKQPNHGFVVEVNHLDNDKN'\n",
    "                'VPKKHVRISRSLTPDKDNWPQIRPLLVTFSHDGKGHALHKRQKRQARHKQRKRLKSSCRR'\n",
    "                'HPLYVDFSDVGWNDWIVAPPGYHAFYCHGECPFPLADHLNSTNHAIVQTLVNSVNTNIPK'\n",
    "                'ACCVPTELSAISMLYLDENEKVVLKNYQDMVVEGCGCR')\n",
    "p25703_chain_idx = (285,398)\n",
    "p25703_chain = get_chain(p25703_fasta, p25703_chain_idx)"
   ]
  },
  {
   "cell_type": "code",
   "execution_count": 18,
   "metadata": {},
   "outputs": [
    {
     "data": {
      "text/plain": [
       "'C2023H3233N591O536S16'"
      ]
     },
     "execution_count": 18,
     "metadata": {},
     "output_type": "execute_result"
    }
   ],
   "source": [
    "str(p25703_chain.get_formula())"
   ]
  },
  {
   "cell_type": "code",
   "execution_count": 19,
   "metadata": {},
   "outputs": [
    {
     "data": {
      "text/plain": [
       "44923.678"
      ]
     },
     "execution_count": 19,
     "metadata": {},
     "output_type": "execute_result"
    }
   ],
   "source": [
    "p25703_chain.get_mol_wt()"
   ]
  },
  {
   "cell_type": "markdown",
   "metadata": {},
   "source": [
    "Then, we can represent the complex in `BcForm`"
   ]
  },
  {
   "cell_type": "code",
   "execution_count": 20,
   "metadata": {},
   "outputs": [],
   "source": [
    "str_bmp2a = ('2 * p25703'\n",
    "             ' | crosslink: [ left-bond-atom: p25703(1)-{}S11 |'\n",
    "                            ' right-bond-atom: p25703(2)-{}S11 |' \n",
    "                            ' left-displaced-atom: p25703(1)-{}H11-1 |'\n",
    "                            'right-displaced-atom: p25703(2)-{}H11-1 ]'.format( \\\n",
    "                            362-p25703_chain_idx[0], 362-p25703_chain_idx[0], \\\n",
    "                            362-p25703_chain_idx[0], 362-p25703_chain_idx[0]))\n",
    "bc_form_bmp2a = bcforms.BcForm().from_str(str_bmp2a)\n",
    "bc_form_bmp2a.set_subunit_attribute('p25703', 'structure', p25703_chain)"
   ]
  },
  {
   "cell_type": "markdown",
   "metadata": {},
   "source": [
    "With this representation, we can calculate the properties of the complex"
   ]
  },
  {
   "cell_type": "code",
   "execution_count": 21,
   "metadata": {},
   "outputs": [
    {
     "data": {
      "text/plain": [
       "'C4046H6464N1182O1072S32'"
      ]
     },
     "execution_count": 21,
     "metadata": {},
     "output_type": "execute_result"
    }
   ],
   "source": [
    "str(bc_form_bmp2a.get_formula())"
   ]
  },
  {
   "cell_type": "code",
   "execution_count": 22,
   "metadata": {},
   "outputs": [
    {
     "data": {
      "text/plain": [
       "89845.34"
      ]
     },
     "execution_count": 22,
     "metadata": {},
     "output_type": "execute_result"
    }
   ],
   "source": [
    "bc_form_bmp2a.get_mol_wt()"
   ]
  },
  {
   "cell_type": "markdown",
   "metadata": {},
   "source": [
    "As shown, the formula of the complex is 2 hydrogen atoms less than 2 times the formula of the subunit, and the molecular weight is approximately 2 less than 2 times that of the subunit."
   ]
  },
  {
   "cell_type": "markdown",
   "metadata": {},
   "source": [
    "#### Anti-parallel homodimer\n",
    "This example is [Disintegrin schistatin](https://www.uniprot.org/uniprot/P83658) in *Echis carinatus*. The two subunits form a homodimer with two anti-parallel disulfide bonds between C-7 and C-12. Again, we first represent the structure of the subunit using `BpForms`."
   ]
  },
  {
   "cell_type": "code",
   "execution_count": 23,
   "metadata": {},
   "outputs": [],
   "source": [
    "p83658_fasta = ('NSVHPCCDPVICEPREGEHCISGPCCENCYFLNSGTICKRARGDGNQDYCTGITPDCPRN'\n",
    "                'RYNV')\n",
    "p83658_chain_idx = (1,64)\n",
    "p83658_chain = get_chain(p83658_fasta, p83658_chain_idx)"
   ]
  },
  {
   "cell_type": "code",
   "execution_count": 24,
   "metadata": {
    "scrolled": true
   },
   "outputs": [
    {
     "data": {
      "text/plain": [
       "'C290H456N91O89S10'"
      ]
     },
     "execution_count": 24,
     "metadata": {},
     "output_type": "execute_result"
    }
   ],
   "source": [
    "str(p83658_chain.get_formula())"
   ]
  },
  {
   "cell_type": "code",
   "execution_count": 25,
   "metadata": {},
   "outputs": [
    {
     "data": {
      "text/plain": [
       "6961.986"
      ]
     },
     "execution_count": 25,
     "metadata": {},
     "output_type": "execute_result"
    }
   ],
   "source": [
    "p83658_chain.get_mol_wt()"
   ]
  },
  {
   "cell_type": "markdown",
   "metadata": {},
   "source": [
    "We can then represent the complex using `BcForms`."
   ]
  },
  {
   "cell_type": "code",
   "execution_count": 26,
   "metadata": {},
   "outputs": [],
   "source": [
    "str_dids = ('2 * p83658'\n",
    "            ' | crosslink: [ left-bond-atom: p83658(1)-{}S11 |'\n",
    "                           ' right-bond-atom: p25703(2)-{}S11 |'\n",
    "                           ' left-displaced-atom: p25703(1)-{}H11-1 |'\n",
    "                           ' right-displaced-atom: p25703(2)-{}H11-1 ]'\n",
    "            ' | crosslink: [ left-bond-atom: p83658(1)-{}S11 |'\n",
    "                           ' right-bond-atom: p25703(2)-{}S11 |'\n",
    "                           ' left-displaced-atom: p25703(1)-{}H11-1 |'\n",
    "                           ' right-displaced-atom: p25703(2)-{}H11-1 ]'.format( \\\n",
    "                            7-p83658_chain_idx[0], 12-p83658_chain_idx[0], \\\n",
    "                            7-p83658_chain_idx[0], 12-p83658_chain_idx[0], \\\n",
    "                            7-p83658_chain_idx[0], 12-p83658_chain_idx[0], \\\n",
    "                            7-p83658_chain_idx[0], 12-p83658_chain_idx[0]))\n",
    "bc_form_dids = bcforms.BcForm().from_str(str_dids)\n",
    "bc_form_dids.set_subunit_attribute('p83658', 'structure', p83658_chain)"
   ]
  },
  {
   "cell_type": "markdown",
   "metadata": {},
   "source": [
    "We can thus compute the physical properties of the complex."
   ]
  },
  {
   "cell_type": "code",
   "execution_count": 27,
   "metadata": {},
   "outputs": [
    {
     "data": {
      "text/plain": [
       "'C580H908N182O178S20'"
      ]
     },
     "execution_count": 27,
     "metadata": {},
     "output_type": "execute_result"
    }
   ],
   "source": [
    "str(bc_form_dids.get_formula())"
   ]
  },
  {
   "cell_type": "code",
   "execution_count": 28,
   "metadata": {},
   "outputs": [
    {
     "data": {
      "text/plain": [
       "13919.94"
      ]
     },
     "execution_count": 28,
     "metadata": {},
     "output_type": "execute_result"
    }
   ],
   "source": [
    "bc_form_dids.get_mol_wt()"
   ]
  },
  {
   "cell_type": "markdown",
   "metadata": {},
   "source": [
    "As shown, the formula of the complex is 4 hydrogens less than 2 times the formula of the subunit, and the molecular weight of the complex is approximately 4 less than 2 times that of the subunit."
   ]
  },
  {
   "cell_type": "markdown",
   "metadata": {},
   "source": [
    "#### Heterodimer\n",
    "The third example is a disulfide-linked heterodimer. The protein Snaclec botrocetin in *Bothrops jajaraca* is composed of one [Snaclec botrocetin subunit alpha](https://www.uniprot.org/uniprot/P22029) and one [Snaclec botrocetin subunit beta](https://www.uniprot.org/uniprot/P22030). The two subunits are linked by a disulfide bond between C-80 of P22029 and C-75 OF P22030. First, we get the `BpForms` representation of the two subunits."
   ]
  },
  {
   "cell_type": "code",
   "execution_count": 29,
   "metadata": {},
   "outputs": [],
   "source": [
    "p22029_fasta = ('DCPSGWSSYEGNCYKFFQQKMNWADAERFCSEQAKGGHLVSIKIYSKEKDFVGDLVTKNI'\n",
    "                'QSSDLYAWIGLRVENKEKQCSSEWSDGSSVSYENVVERTVKKCFALEKDLGFVLWINLYC'\n",
    "                'AQKNPFVCKSPPP')\n",
    "p22029_chain_idx = (1,133)\n",
    "p22029_chain = get_chain(p22029_fasta, p22029_chain_idx)"
   ]
  },
  {
   "cell_type": "code",
   "execution_count": 30,
   "metadata": {},
   "outputs": [
    {
     "data": {
      "text/plain": [
       "'C682H1048N176O187S8'"
      ]
     },
     "execution_count": 30,
     "metadata": {},
     "output_type": "execute_result"
    }
   ],
   "source": [
    "str(p22029_chain.get_formula())"
   ]
  },
  {
   "cell_type": "code",
   "execution_count": 31,
   "metadata": {},
   "outputs": [
    {
     "data": {
      "text/plain": [
       "14961.410999999998"
      ]
     },
     "execution_count": 31,
     "metadata": {},
     "output_type": "execute_result"
    }
   ],
   "source": [
    "p22029_chain.get_mol_wt()"
   ]
  },
  {
   "cell_type": "code",
   "execution_count": 32,
   "metadata": {},
   "outputs": [],
   "source": [
    "p22030_fasta = ('DCPPDWSSYEGHCYRFFKEWMHWDDAEEFCTEQQTGAHLVSFQSKEEADFVRSLTSEMLK'\n",
    "                'GDVVWIGLSDVWNKCRFEWTDGMEFDYDDYYLIAEYECVASKPTNNKWWIIPCTRFKNFV'\n",
    "                'CEFQA')\n",
    "p22030_chain_idx = (1,133)\n",
    "p22030_chain = get_chain(p22030_fasta, p22030_chain_idx)"
   ]
  },
  {
   "cell_type": "code",
   "execution_count": 33,
   "metadata": {},
   "outputs": [
    {
     "data": {
      "text/plain": [
       "'C682H972N166O178S10'"
      ]
     },
     "execution_count": 33,
     "metadata": {},
     "output_type": "execute_result"
    }
   ],
   "source": [
    "str(p22030_chain.get_formula())"
   ]
  },
  {
   "cell_type": "code",
   "execution_count": 34,
   "metadata": {},
   "outputs": [
    {
     "data": {
      "text/plain": [
       "14664.862000000001"
      ]
     },
     "execution_count": 34,
     "metadata": {},
     "output_type": "execute_result"
    }
   ],
   "source": [
    "p22030_chain.get_mol_wt()"
   ]
  },
  {
   "cell_type": "markdown",
   "metadata": {},
   "source": [
    "Having defined the two subunits, we can represent the heterodimer as a `BcForms` object."
   ]
  },
  {
   "cell_type": "code",
   "execution_count": 35,
   "metadata": {},
   "outputs": [],
   "source": [
    "str_sle = ('p22029 + p22030'\n",
    "           ' | crosslink: [ left-bond-atom: p22029(1)-{}S11 |'\n",
    "           ' right-bond-atom: p22030(2)-{}S11 |'\n",
    "           ' left-displaced-atom: p22029(1)-{}H11-1 |'\n",
    "           ' right-displaced-atom: p22030(2)-{}H11-1 ]'.format( \\\n",
    "            80-p22029_chain_idx[0], 75-p22030_chain_idx[0], \\\n",
    "            80-p22029_chain_idx[0], 75-p22030_chain_idx[0]))\n",
    "bc_form_sle = bcforms.BcForm().from_str(str_sle)\n",
    "bc_form_sle.set_subunit_attribute('p22029', 'structure', p22029_chain)\n",
    "bc_form_sle.set_subunit_attribute('p22030', 'structure', p22030_chain)"
   ]
  },
  {
   "cell_type": "markdown",
   "metadata": {},
   "source": [
    "We can compute the formula and molecular weight of the complex."
   ]
  },
  {
   "cell_type": "code",
   "execution_count": 36,
   "metadata": {},
   "outputs": [
    {
     "data": {
      "text/plain": [
       "'C1364H2018N342O365S18'"
      ]
     },
     "execution_count": 36,
     "metadata": {},
     "output_type": "execute_result"
    }
   ],
   "source": [
    "str(bc_form_sle.get_formula())"
   ]
  },
  {
   "cell_type": "code",
   "execution_count": 37,
   "metadata": {},
   "outputs": [
    {
     "data": {
      "text/plain": [
       "29624.256999999998"
      ]
     },
     "execution_count": 37,
     "metadata": {},
     "output_type": "execute_result"
    }
   ],
   "source": [
    "bc_form_sle.get_mol_wt()"
   ]
  },
  {
   "cell_type": "markdown",
   "metadata": {},
   "source": [
    "### Crosslinks\n",
    "There exist many other types of covalent linkages between two proteins that are involved in forming protein complexes. [This](https://www.uniprot.org/help/crosslnk) is a link to the UniProt page on crosslinks for more information. When the linkage information is clearly known from databases, then `BcForms` is capable of concretly desribing the crosslink."
   ]
  },
  {
   "cell_type": "markdown",
   "metadata": {},
   "source": [
    "#### Sumoylation\n",
    "Sumoylation is a common interchain crosslink where the proteins are covalently bound to small SUMO proteins, a process involved in nuclear retention. In this example, we will consider the sumoylation of protein [Chromatin assembly factor 1 subunit A](https://www.uniprot.org/uniprot/Q13111) in human. Sumoylation takes place when the lysine at position 182 in CAF1A_HUMAN forms a [Glycyl lysine isopeptide (Lys-Gly)](https://annotation.dbi.udel.edu/cgi-bin/resid?id=AA0125) bond with the glycine at the C-terminus in SUMO1_HUMAN. To describe the protein complex, we first use `BpForms` to describe the subunits"
   ]
  },
  {
   "cell_type": "code",
   "execution_count": 38,
   "metadata": {},
   "outputs": [],
   "source": [
    "q13111_fasta = ('MLEELECGAPGARGAATAMDCKDRPAFPVKKLIQARLPFKRLNLVPKGKADDMSDDQGTS'\n",
    "                'VQSKSPDLEASLDTLENNCHVGSDIDFRPKLVNGKGPLDNFLRNRIETSIGQSTVIIDLT'\n",
    "                'EDSNEQPDSLVDHNKLNSEASPSREAINGQREDTGDQQGLLKAIQNDKLAFPGETLSDIP'\n",
    "                'CKTEEEGVGCGGAGRRGDSQECSPRSCPELTSGPRMCPRKEQDSWSEAGGILFKGKVPMV'\n",
    "                'VLQDILAVRPPQIKSLPATPQGKNMTPESEVLESFPEEDSVLSHSSLSSPSSTSSPEGPP'\n",
    "                'APPKQHSSTSPFPTSTPLRRITKKFVKGSTEKNKLRLQRDQERLGKQLKLRAEREEKEKL'\n",
    "                'KEEAKRAKEEAKKKKEEEKELKEKERREKREKDEKEKAEKQRLKEERRKERQEALEAKLE'\n",
    "                'EKRKKEEEKRLREEEKRIKAEKAEITRFFQKPKTPQAPKTLAGSCGKFAPFEIKEHMVLA'\n",
    "                'PRRRTAFHPDLCSQLDQLLQQQSGEFSFLKDLKGRQPLRSGPTHVSTRNADIFNSDVVIV'\n",
    "                'ERGKGDGVPERRKFGRMKLLQFCENHRPAYWGTWNKKTALIRARDPWAQDTKLLDYEVDS'\n",
    "                'DEEWEEEEPGESLSHSEGDDDDDMGEDEDEDDGFFVPHGYLSEDEGVTEECADPENHKVR'\n",
    "                'QKLKAKEWDEFLAKGKRFRVLQPVKIGCVWAADRDCAGDDLKVLQQFAACFLETLPAQEE'\n",
    "                'QTPKASKRERRDEQILAQLLPLLHGNVNGSKVIIREFQEHCRRGLLSNHTGSPRSPSTTY'\n",
    "                'LHTPTPSEDAAIPSKSRLKRLISENSVYEKRPDFRMCWYVHPQVLQSFQQEHLPVPCQWS'\n",
    "                'YVTSVPSAPKEDSGSVPSTGPSQGTPISLKRKSAGSMCITQFMKKRRHDGQIGAEDMDGF'\n",
    "                'QADTEEEEEEEGDCMIVDVPDAAEVQAPCGAASGAGGGVGVDTGKATLTASPLGAS')\n",
    "q13111_chain_idx = (1,956)\n",
    "q13111_chain = get_chain(q13111_fasta, q13111_chain_idx)"
   ]
  },
  {
   "cell_type": "code",
   "execution_count": 39,
   "metadata": {},
   "outputs": [
    {
     "data": {
      "text/plain": [
       "AttrDefault(<class 'float'>, False, {'C': 4613.0, 'H': 7563.0, 'N': 1356.0, 'O': 1324.0, 'S': 35.0})"
      ]
     },
     "execution_count": 39,
     "metadata": {},
     "output_type": "execute_result"
    }
   ],
   "source": [
    "q13111_chain.get_formula()"
   ]
  },
  {
   "cell_type": "code",
   "execution_count": 40,
   "metadata": {},
   "outputs": [
    {
     "data": {
      "text/plain": [
       "104328.51500000001"
      ]
     },
     "execution_count": 40,
     "metadata": {},
     "output_type": "execute_result"
    }
   ],
   "source": [
    "q13111_chain.get_mol_wt()"
   ]
  },
  {
   "cell_type": "code",
   "execution_count": 41,
   "metadata": {},
   "outputs": [],
   "source": [
    "p63165_fasta = ('MSDQEAKPSTEDLGDKKEGEYIKLKVIGQDSSEIHFKVKMTTHLKKLKESYCQRQGVPMN'\n",
    "                'SLRFLFEGQRIADNHTPKELGMEEEDVIEVYQEQTGGHSTV')\n",
    "p63165_chain_idx = (2,97)\n",
    "p63165_chain = get_chain(p63165_fasta, p63165_chain_idx)"
   ]
  },
  {
   "cell_type": "code",
   "execution_count": 42,
   "metadata": {},
   "outputs": [
    {
     "data": {
      "text/plain": [
       "AttrDefault(<class 'float'>, False, {'C': 501.0, 'H': 815.0, 'N': 138.0, 'O': 146.0, 'S': 5.0})"
      ]
     },
     "execution_count": 42,
     "metadata": {},
     "output_type": "execute_result"
    }
   ],
   "source": [
    "p63165_chain.get_formula()"
   ]
  },
  {
   "cell_type": "code",
   "execution_count": 43,
   "metadata": {},
   "outputs": [
    {
     "data": {
      "text/plain": [
       "11268.150999999998"
      ]
     },
     "execution_count": 43,
     "metadata": {},
     "output_type": "execute_result"
    }
   ],
   "source": [
    "p63165_chain.get_mol_wt()"
   ]
  },
  {
   "cell_type": "markdown",
   "metadata": {},
   "source": [
    "Then, we can define the complex using `BcForms`."
   ]
  },
  {
   "cell_type": "code",
   "execution_count": 44,
   "metadata": {},
   "outputs": [],
   "source": [
    "str_sumo = ('q13111 + p63165'\n",
    "           ' | crosslink: [ left-bond-atom: q13111-{}N1-1 |'\n",
    "           ' right-bond-atom: p63165-{}C2 |'\n",
    "           ' left-displaced-atom: q13111-{}H1+1 |'\n",
    "           ' left-displaced-atom: q13111-{}H1 |' \n",
    "           ' right-displaced-atom: p63165-{}O1 |'\n",
    "           ' right-displaced-atom: p63165-{}H1 ]'.format( \\\n",
    "            182-q13111_chain_idx[0], 97-p63165_chain_idx[0], \\\n",
    "            182-q13111_chain_idx[0], 182-q13111_chain_idx[0], \\\n",
    "            97-p63165_chain_idx[0], 97-p63165_chain_idx[0]))\n",
    "bc_form_sumo = bcforms.BcForm().from_str(str_sumo)\n",
    "bc_form_sumo.set_subunit_attribute('q13111', 'structure', q13111_chain)\n",
    "bc_form_sumo.set_subunit_attribute('p63165', 'structure', p63165_chain)"
   ]
  },
  {
   "cell_type": "code",
   "execution_count": 45,
   "metadata": {},
   "outputs": [
    {
     "data": {
      "text/plain": [
       "'C5114H8375N1494O1469S40'"
      ]
     },
     "execution_count": 45,
     "metadata": {},
     "output_type": "execute_result"
    }
   ],
   "source": [
    "str(bc_form_sumo.get_formula())"
   ]
  },
  {
   "cell_type": "code",
   "execution_count": 46,
   "metadata": {},
   "outputs": [
    {
     "data": {
      "text/plain": [
       "115577.64300000001"
      ]
     },
     "execution_count": 46,
     "metadata": {},
     "output_type": "execute_result"
    }
   ],
   "source": [
    "bc_form_sumo.get_mol_wt()"
   ]
  }
 ],
 "metadata": {
  "kernelspec": {
   "display_name": "Python 3",
   "language": "python",
   "name": "python3"
  },
  "language_info": {
   "codemirror_mode": {
    "name": "ipython",
    "version": 3
   },
   "file_extension": ".py",
   "mimetype": "text/x-python",
   "name": "python",
   "nbconvert_exporter": "python",
   "pygments_lexer": "ipython3",
   "version": "3.6.8"
  },
  "toc": {
   "base_numbering": 1,
   "nav_menu": {},
   "number_sections": true,
   "sideBar": true,
   "skip_h1_title": false,
   "title_cell": "Table of Contents",
   "title_sidebar": "Contents",
   "toc_cell": false,
   "toc_position": {},
   "toc_section_display": true,
   "toc_window_display": false
  },
  "varInspector": {
   "cols": {
    "lenName": 16,
    "lenType": 16,
    "lenVar": 40
   },
   "kernels_config": {
    "python": {
     "delete_cmd_postfix": "",
     "delete_cmd_prefix": "del ",
     "library": "var_list.py",
     "varRefreshCmd": "print(var_dic_list())"
    },
    "r": {
     "delete_cmd_postfix": ") ",
     "delete_cmd_prefix": "rm(",
     "library": "var_list.r",
     "varRefreshCmd": "cat(var_dic_list()) "
    }
   },
   "types_to_exclude": [
    "module",
    "function",
    "builtin_function_or_method",
    "instance",
    "_Feature"
   ],
   "window_display": false
  }
 },
 "nbformat": 4,
 "nbformat_minor": 2
}
